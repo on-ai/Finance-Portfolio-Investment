{
 "cells": [
  {
   "cell_type": "code",
   "execution_count": null,
   "metadata": {},
   "outputs": [],
   "source": [
    "# Prediction with OpenAI"
   ]
  },
  {
   "cell_type": "code",
   "execution_count": null,
   "metadata": {},
   "outputs": [],
   "source": [
    "!pip install openai\n",
    "!pip install langchain\n",
    "!pip install eodhd\n",
    "!pip install config\n",
    "\n",
    "import re\n",
    "import requests\n",
    "import pandas as pd\n",
    "import config as cfg\n",
    "from eodhd import APIClient\n",
    "from langchain.chains import LLMChain\n",
    "from langchain.prompts import PromptTemplate\n",
    "from langchain.chat_models import ChatOpenAI"
   ]
  },
  {
   "cell_type": "code",
   "execution_count": null,
   "metadata": {},
   "outputs": [],
   "source": [
    "\n",
    "api_key = '<YOUR API KEY>'"
   ]
  },
  {
   "cell_type": "code",
   "execution_count": null,
   "metadata": {},
   "outputs": [],
   "source": [
    "\n",
    "resp = api.financial_news(s = \"AAPL.US\", from_date = '2024-01-01', to_date = '2024-01-30', limit = 100)\n",
    "df = pd.DataFrame(resp) # converting the json output into datframe\n",
    "df.tail()"
   ]
  },
  {
   "cell_type": "markdown",
   "metadata": {},
   "source": [
    "Let me explain the parameters in the API:\n",
    "\n",
    "\n",
    "s: String. REQUIRED if parameter ‘t’ is not set. The ticker code to get news for.\n",
    "\n",
    "t: String. REQUIRED if parameter ‘s’ is not set. The tag to get news on a given topic. you can find the provided topic list on this page: https://eodhd.com/financial-apis/stock-market-financial-news-api/\n",
    "\n",
    "api_token: String. REQUIRED. Your api_token to access the API. You will get it after registration.\n",
    "\n",
    "from and to: the format is ‘YYYY-MM-DD’. If you need data from Mar 1, 2021, to Mar 10, 2021, you should use from=2021–03–01 and to=2021–03–10.\n",
    "\n",
    "limit: Number. OPTIONAL. The number of results should be returned with the query. Default value: 50, minimum value: 1, maximum value: 1000.\n",
    "\n",
    "offset: Number. OPTIONAL. The offset of the data. Default value: 0, minimum value: 0. For example, to get 100 symbols starting from 200 you should use limit=100 and offset=200."
   ]
  },
  {
   "cell_type": "markdown",
   "metadata": {},
   "source": [
    "The output data has the following fields:\n",
    "\n",
    "\n",
    "date: The date and time of the article are in ISO 8601 format.\n",
    "\n",
    "title: The title of the article.\n",
    "\n",
    "content: The full body of the article.\n",
    "\n",
    "link: The link to the source.\n",
    "\n",
    "symbols: The array of ticker symbols is mentioned in the article."
   ]
  },
  {
   "cell_type": "code",
   "execution_count": null,
   "metadata": {},
   "outputs": [],
   "source": [
    "# funtion to clean the textual data\n",
    "def clean_text(text):\n",
    "    cleaned_text = re.sub(r'\\s+', ' ', text)\n",
    "    return cleaned_text.strip()\n",
    "\n",
    "# Apply the replacement function to the entire column\n",
    "df['content'] = df['content'].apply(clean_text)"
   ]
  },
  {
   "cell_type": "markdown",
   "metadata": {},
   "source": [
    "Now we will use Langchain to form an LLM chain with the OpenAI model."
   ]
  },
  {
   "cell_type": "code",
   "execution_count": null,
   "metadata": {},
   "outputs": [],
   "source": [
    "\n",
    "llm = ChatOpenAI(model = \"gpt-3.5-turbo\",\n",
    "                 openai_api_key = 'YOUR OPENAI API KEY', \n",
    "                 temperature = 0)"
   ]
  },
  {
   "cell_type": "markdown",
   "metadata": {},
   "source": [
    "leverage prompt engineering techniques, utilizing the Langchain template functionality, to construct an optimized prompt for conducting sentiment analysis in the stock market. The objective is to create a prompt that not only provides sentiment Analysis but also offers explanations for the model’s inferences."
   ]
  },
  {
   "cell_type": "code",
   "execution_count": null,
   "metadata": {},
   "outputs": [],
   "source": [
    "template = \"\"\"\n",
    "Identify the sentiment towards the Apple(AAPL) stocks from the news article , where the sentiment score should be from -10 to +10 where -10 being the most negative and +10 being the most positve , and 0 being neutral\n",
    "\n",
    "Also give the proper explanation for your answers and how would it effect the prices of different stocks\n",
    "\n",
    "Article : {statement}\n",
    "\"\"\"\n",
    "\n",
    "# forming prompt using Langchain PromptTemplate functionality\n",
    "prompt = PromptTemplate(template = template, input_variables = [\"statement\"])\n",
    "llm_chain = LLMChain(prompt = prompt, llm = llm)"
   ]
  },
  {
   "cell_type": "code",
   "execution_count": null,
   "metadata": {},
   "outputs": [],
   "source": [
    "Running the LLM chain :\n",
    "\n",
    "\n",
    "\n",
    "print(llm_chain.run(df['content'][13]))"
   ]
  },
  {
   "cell_type": "code",
   "execution_count": null,
   "metadata": {},
   "outputs": [],
   "source": [
    "\n",
    "# A function to count the number of tokens\n",
    "def count_tokens(text):\n",
    "    tokens = text.split()  \n",
    "    return len(tokens)\n",
    "\n",
    "Counting tokes for all the rows in a dataframe:\n",
    "\n",
    "\n",
    "# Applying the tokenization function to the DataFrame columndf['TokenCount'] = df['content'].apply(count_tokens)"
   ]
  },
  {
   "cell_type": "code",
   "execution_count": null,
   "metadata": {},
   "outputs": [],
   "source": [
    "# DataFrame from the TokenCount\n",
    "\n",
    "# Define a token count threshold (for example, keep rows with more than 2 tokens)\n",
    "token_count_threshold = 3500\n",
    "\n",
    "# Create a new DataFrame by filtering based on the token count\n",
    "new_df = df[df['TokenCount'] < token_count_threshold]\n",
    "\n",
    "# Drop the 'TokenCount' column from the new DataFrame if you don't need it\n",
    "new_df = new_df.drop('TokenCount', axis = 1)\n",
    "\n",
    "# Resetting the index\n",
    "new_df = new_df.reset_index(drop = True)"
   ]
  },
  {
   "cell_type": "code",
   "execution_count": null,
   "metadata": {},
   "outputs": [],
   "source": [
    "# Change of Prompt Template\n",
    "template_2 = \"\"\"\n",
    "Identify the sentiment towards the Apple(AAPL) stocks of the news article from -10 to +10 where -10 being the most negative and +10 being the most positve , and 0 being neutral\n",
    "\n",
    "GIVE ANSWER IN ONLY ONE WORD AND THAT SHOULD BE THE SCORE\n",
    "\n",
    "Article : {statement}\n",
    "\"\"\"\n",
    "\n",
    "# forming prompt using Langchain PromptTemplate functionality\n",
    "prompt_2 = PromptTemplate(template = template_2, input_variables = [\"statement\"])"
   ]
  },
  {
   "cell_type": "code",
   "execution_count": null,
   "metadata": {},
   "outputs": [],
   "source": [
    "# Let’s form the new LLM chain:\n",
    "\n",
    "\n",
    "\n",
    "llm_chain_2 = LLMChain(prompt = prompt_2, llm = llm)\n",
    "\n",
    "# Let me demonstrate one inference here:\n",
    "\n",
    "\n",
    "\n",
    "print(new_df['content'][2])\n",
    "print('')\n",
    "print('News sentiment: ', llm_chain_2.run(new_df['content'][2]))"
   ]
  },
  {
   "cell_type": "code",
   "execution_count": null,
   "metadata": {},
   "outputs": [],
   "source": [
    "# We will get the sentiment of each value\n",
    "x = []\n",
    "for i in range(0,new_df.shape[0]):\n",
    "    x.append(llm_chain_2.run(new_df['content'][i]))"
   ]
  },
  {
   "cell_type": "code",
   "execution_count": null,
   "metadata": {},
   "outputs": [],
   "source": [
    "# Showing Market Sentiment\n",
    "import matplotlib.pyplot as plt\n",
    "\n",
    "dt = pd.DataFrame(x) # Converting into Dataframe\n",
    "column_name = 0 # this is my column name you should change it according to your data\n",
    "value_counts = dt[column_name].value_counts()\n",
    "\n",
    "# Plotting the pie chart\n",
    "plt.pie(value_counts, labels = value_counts.index, autopct = '%1.1f%%', startangle = 140)\n",
    "plt.title(f'Pie Chart')\n",
    "plt.axis('equal')  # Equal aspect ratio ensures that the pie is drawn as a circle.\n",
    "\n",
    "# Show the pie chart\n",
    "plt.show()"
   ]
  },
  {
   "cell_type": "code",
   "execution_count": null,
   "metadata": {},
   "outputs": [],
   "source": [
    "# Removing Neutral Values\n",
    "value_to_remove = '0'\n",
    "# Remove all rows where the specified value occurs in the column\n",
    "dt_new = dt[dt[0] != value_to_remove]"
   ]
  },
  {
   "cell_type": "code",
   "execution_count": null,
   "metadata": {},
   "outputs": [],
   "source": [
    "value_counts = dt_new[column_name].value_counts()\n",
    "\n",
    "# Plotting the pie chart\n",
    "plt.pie(value_counts, labels = value_counts.index, autopct = '%1.1f%%', startangle = 140)\n",
    "plt.title(f'Pie Chart')\n",
    "plt.axis('equal')  # Equal aspect ratio ensures that the pie is drawn as a circle.\n",
    "\n",
    "# Show the pie chart\n",
    "plt.show()"
   ]
  }
 ],
 "metadata": {
  "kernelspec": {
   "display_name": "base",
   "language": "python",
   "name": "python3"
  },
  "language_info": {
   "name": "python",
   "version": "3.11.5"
  }
 },
 "nbformat": 4,
 "nbformat_minor": 2
}
