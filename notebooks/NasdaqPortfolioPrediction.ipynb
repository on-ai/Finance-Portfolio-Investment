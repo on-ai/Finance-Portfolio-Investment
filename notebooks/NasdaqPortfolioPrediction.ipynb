{
 "cells": [
  {
   "cell_type": "code",
   "execution_count": 55,
   "id": "76826522",
   "metadata": {},
   "outputs": [
    {
     "name": "stdout",
     "output_type": "stream",
     "text": [
      "Requirement already satisfied: yfinance in d:\\anaconda3\\lib\\site-packages (0.2.36)\n",
      "Requirement already satisfied: pandas>=1.3.0 in d:\\anaconda3\\lib\\site-packages (from yfinance) (2.0.3)\n",
      "Requirement already satisfied: numpy>=1.16.5 in d:\\anaconda3\\lib\\site-packages (from yfinance) (1.24.3)\n",
      "Requirement already satisfied: requests>=2.31 in d:\\anaconda3\\lib\\site-packages (from yfinance) (2.31.0)\n",
      "Requirement already satisfied: multitasking>=0.0.7 in d:\\anaconda3\\lib\\site-packages (from yfinance) (0.0.11)\n",
      "Requirement already satisfied: lxml>=4.9.1 in d:\\anaconda3\\lib\\site-packages (from yfinance) (4.9.3)\n",
      "Requirement already satisfied: appdirs>=1.4.4 in d:\\anaconda3\\lib\\site-packages (from yfinance) (1.4.4)\n",
      "Requirement already satisfied: pytz>=2022.5 in d:\\anaconda3\\lib\\site-packages (from yfinance) (2023.3.post1)\n",
      "Requirement already satisfied: frozendict>=2.3.4 in d:\\anaconda3\\lib\\site-packages (from yfinance) (2.4.0)\n",
      "Requirement already satisfied: peewee>=3.16.2 in d:\\anaconda3\\lib\\site-packages (from yfinance) (3.17.1)\n",
      "Requirement already satisfied: beautifulsoup4>=4.11.1 in d:\\anaconda3\\lib\\site-packages (from yfinance) (4.12.2)\n",
      "Requirement already satisfied: html5lib>=1.1 in d:\\anaconda3\\lib\\site-packages (from yfinance) (1.1)\n",
      "Requirement already satisfied: soupsieve>1.2 in d:\\anaconda3\\lib\\site-packages (from beautifulsoup4>=4.11.1->yfinance) (2.4)\n",
      "Requirement already satisfied: six>=1.9 in d:\\anaconda3\\lib\\site-packages (from html5lib>=1.1->yfinance) (1.16.0)\n",
      "Requirement already satisfied: webencodings in d:\\anaconda3\\lib\\site-packages (from html5lib>=1.1->yfinance) (0.5.1)\n",
      "Requirement already satisfied: python-dateutil>=2.8.2 in d:\\anaconda3\\lib\\site-packages (from pandas>=1.3.0->yfinance) (2.8.2)\n",
      "Requirement already satisfied: tzdata>=2022.1 in d:\\anaconda3\\lib\\site-packages (from pandas>=1.3.0->yfinance) (2023.3)\n",
      "Requirement already satisfied: charset-normalizer<4,>=2 in d:\\anaconda3\\lib\\site-packages (from requests>=2.31->yfinance) (2.0.4)\n",
      "Requirement already satisfied: idna<4,>=2.5 in d:\\anaconda3\\lib\\site-packages (from requests>=2.31->yfinance) (3.4)\n",
      "Requirement already satisfied: urllib3<3,>=1.21.1 in d:\\anaconda3\\lib\\site-packages (from requests>=2.31->yfinance) (1.26.16)\n",
      "Requirement already satisfied: certifi>=2017.4.17 in d:\\anaconda3\\lib\\site-packages (from requests>=2.31->yfinance) (2024.2.2)\n"
     ]
    }
   ],
   "source": [
    "!pip install yfinance"
   ]
  },
  {
   "cell_type": "code",
   "execution_count": 56,
   "id": "f53fcbbf-a62d-4aa2-be7b-9aa4e17a5e48",
   "metadata": {},
   "outputs": [],
   "source": [
    "import yfinance as yf\n",
    "import pandas as pd\n",
    "import os"
   ]
  },
  {
   "cell_type": "code",
   "execution_count": 57,
   "id": "840a899d",
   "metadata": {},
   "outputs": [],
   "source": [
    "\n",
    "# Liste des symboles des actions à sélectionner\n",
    "stock_symbols = ['AAPL'] #, 'MSFT', 'GOOGL', 'AMZN', 'TSLA']\n"
   ]
  },
  {
   "cell_type": "code",
   "execution_count": 58,
   "id": "e1b23ff8",
   "metadata": {},
   "outputs": [],
   "source": [
    "def fetch_portfolio(stock_list):\n",
    "    pf_final = pd.DataFrame()\n",
    "    for stock in stock_symbols:\n",
    "        pf = yf.Ticker(stock)\n",
    "        pf = pf.history(period=\"max\")\n",
    "        pf_final = pd.concat([pf_final, pf])\n",
    "    return pf_final"
   ]
  },
  {
   "cell_type": "code",
   "execution_count": 59,
   "id": "0c4d2b51-1187-44c7-a281-da84d0381dd5",
   "metadata": {},
   "outputs": [],
   "source": [
    "# if os.path.exists(\"./data/portfolio01.csv\"):\n",
    "#     portfolio01 = pd.read_csv(\"./data/portfolio01.csv\", index_col=0)\n",
    "# else:\n",
    "#     portfolio01 = fetch_portfolio(stock_symbols)\n",
    "#     portfolio01.to_csv(\"./data/portfolio01.csv\")\n",
    "portfolio01 = fetch_portfolio(stock_symbols)"
   ]
  },
  {
   "cell_type": "code",
   "execution_count": 60,
   "id": "f605b43c-8db9-43ae-b2d4-29fc6048b8aa",
   "metadata": {},
   "outputs": [],
   "source": [
    "portfolio01.index = pd.to_datetime(portfolio01.index)"
   ]
  },
  {
   "cell_type": "code",
   "execution_count": 61,
   "id": "fbb162ce-7d18-4c14-b349-9014c0d6db42",
   "metadata": {},
   "outputs": [
    {
     "data": {
      "text/html": [
       "<div>\n",
       "<style scoped>\n",
       "    .dataframe tbody tr th:only-of-type {\n",
       "        vertical-align: middle;\n",
       "    }\n",
       "\n",
       "    .dataframe tbody tr th {\n",
       "        vertical-align: top;\n",
       "    }\n",
       "\n",
       "    .dataframe thead th {\n",
       "        text-align: right;\n",
       "    }\n",
       "</style>\n",
       "<table border=\"1\" class=\"dataframe\">\n",
       "  <thead>\n",
       "    <tr style=\"text-align: right;\">\n",
       "      <th></th>\n",
       "      <th>Open</th>\n",
       "      <th>High</th>\n",
       "      <th>Low</th>\n",
       "      <th>Close</th>\n",
       "      <th>Volume</th>\n",
       "      <th>Dividends</th>\n",
       "      <th>Stock Splits</th>\n",
       "    </tr>\n",
       "    <tr>\n",
       "      <th>Date</th>\n",
       "      <th></th>\n",
       "      <th></th>\n",
       "      <th></th>\n",
       "      <th></th>\n",
       "      <th></th>\n",
       "      <th></th>\n",
       "      <th></th>\n",
       "    </tr>\n",
       "  </thead>\n",
       "  <tbody>\n",
       "    <tr>\n",
       "      <th>1980-12-12 00:00:00-05:00</th>\n",
       "      <td>0.099192</td>\n",
       "      <td>0.099623</td>\n",
       "      <td>0.099192</td>\n",
       "      <td>0.099192</td>\n",
       "      <td>469033600</td>\n",
       "      <td>0.0</td>\n",
       "      <td>0.0</td>\n",
       "    </tr>\n",
       "    <tr>\n",
       "      <th>1980-12-15 00:00:00-05:00</th>\n",
       "      <td>0.094448</td>\n",
       "      <td>0.094448</td>\n",
       "      <td>0.094017</td>\n",
       "      <td>0.094017</td>\n",
       "      <td>175884800</td>\n",
       "      <td>0.0</td>\n",
       "      <td>0.0</td>\n",
       "    </tr>\n",
       "    <tr>\n",
       "      <th>1980-12-16 00:00:00-05:00</th>\n",
       "      <td>0.087548</td>\n",
       "      <td>0.087548</td>\n",
       "      <td>0.087117</td>\n",
       "      <td>0.087117</td>\n",
       "      <td>105728000</td>\n",
       "      <td>0.0</td>\n",
       "      <td>0.0</td>\n",
       "    </tr>\n",
       "    <tr>\n",
       "      <th>1980-12-17 00:00:00-05:00</th>\n",
       "      <td>0.089273</td>\n",
       "      <td>0.089704</td>\n",
       "      <td>0.089273</td>\n",
       "      <td>0.089273</td>\n",
       "      <td>86441600</td>\n",
       "      <td>0.0</td>\n",
       "      <td>0.0</td>\n",
       "    </tr>\n",
       "    <tr>\n",
       "      <th>1980-12-18 00:00:00-05:00</th>\n",
       "      <td>0.091861</td>\n",
       "      <td>0.092292</td>\n",
       "      <td>0.091861</td>\n",
       "      <td>0.091861</td>\n",
       "      <td>73449600</td>\n",
       "      <td>0.0</td>\n",
       "      <td>0.0</td>\n",
       "    </tr>\n",
       "    <tr>\n",
       "      <th>...</th>\n",
       "      <td>...</td>\n",
       "      <td>...</td>\n",
       "      <td>...</td>\n",
       "      <td>...</td>\n",
       "      <td>...</td>\n",
       "      <td>...</td>\n",
       "      <td>...</td>\n",
       "    </tr>\n",
       "    <tr>\n",
       "      <th>2024-03-11 00:00:00-04:00</th>\n",
       "      <td>172.940002</td>\n",
       "      <td>174.380005</td>\n",
       "      <td>172.050003</td>\n",
       "      <td>172.750000</td>\n",
       "      <td>60139500</td>\n",
       "      <td>0.0</td>\n",
       "      <td>0.0</td>\n",
       "    </tr>\n",
       "    <tr>\n",
       "      <th>2024-03-12 00:00:00-04:00</th>\n",
       "      <td>173.149994</td>\n",
       "      <td>174.029999</td>\n",
       "      <td>171.009995</td>\n",
       "      <td>173.229996</td>\n",
       "      <td>59825400</td>\n",
       "      <td>0.0</td>\n",
       "      <td>0.0</td>\n",
       "    </tr>\n",
       "    <tr>\n",
       "      <th>2024-03-13 00:00:00-04:00</th>\n",
       "      <td>172.770004</td>\n",
       "      <td>173.190002</td>\n",
       "      <td>170.759995</td>\n",
       "      <td>171.130005</td>\n",
       "      <td>52488700</td>\n",
       "      <td>0.0</td>\n",
       "      <td>0.0</td>\n",
       "    </tr>\n",
       "    <tr>\n",
       "      <th>2024-03-14 00:00:00-04:00</th>\n",
       "      <td>172.910004</td>\n",
       "      <td>174.309998</td>\n",
       "      <td>172.050003</td>\n",
       "      <td>173.000000</td>\n",
       "      <td>72913500</td>\n",
       "      <td>0.0</td>\n",
       "      <td>0.0</td>\n",
       "    </tr>\n",
       "    <tr>\n",
       "      <th>2024-03-15 00:00:00-04:00</th>\n",
       "      <td>171.169998</td>\n",
       "      <td>172.619995</td>\n",
       "      <td>170.289993</td>\n",
       "      <td>172.619995</td>\n",
       "      <td>121664700</td>\n",
       "      <td>0.0</td>\n",
       "      <td>0.0</td>\n",
       "    </tr>\n",
       "  </tbody>\n",
       "</table>\n",
       "<p>10905 rows × 7 columns</p>\n",
       "</div>"
      ],
      "text/plain": [
       "                                 Open        High         Low       Close  \\\n",
       "Date                                                                        \n",
       "1980-12-12 00:00:00-05:00    0.099192    0.099623    0.099192    0.099192   \n",
       "1980-12-15 00:00:00-05:00    0.094448    0.094448    0.094017    0.094017   \n",
       "1980-12-16 00:00:00-05:00    0.087548    0.087548    0.087117    0.087117   \n",
       "1980-12-17 00:00:00-05:00    0.089273    0.089704    0.089273    0.089273   \n",
       "1980-12-18 00:00:00-05:00    0.091861    0.092292    0.091861    0.091861   \n",
       "...                               ...         ...         ...         ...   \n",
       "2024-03-11 00:00:00-04:00  172.940002  174.380005  172.050003  172.750000   \n",
       "2024-03-12 00:00:00-04:00  173.149994  174.029999  171.009995  173.229996   \n",
       "2024-03-13 00:00:00-04:00  172.770004  173.190002  170.759995  171.130005   \n",
       "2024-03-14 00:00:00-04:00  172.910004  174.309998  172.050003  173.000000   \n",
       "2024-03-15 00:00:00-04:00  171.169998  172.619995  170.289993  172.619995   \n",
       "\n",
       "                              Volume  Dividends  Stock Splits  \n",
       "Date                                                           \n",
       "1980-12-12 00:00:00-05:00  469033600        0.0           0.0  \n",
       "1980-12-15 00:00:00-05:00  175884800        0.0           0.0  \n",
       "1980-12-16 00:00:00-05:00  105728000        0.0           0.0  \n",
       "1980-12-17 00:00:00-05:00   86441600        0.0           0.0  \n",
       "1980-12-18 00:00:00-05:00   73449600        0.0           0.0  \n",
       "...                              ...        ...           ...  \n",
       "2024-03-11 00:00:00-04:00   60139500        0.0           0.0  \n",
       "2024-03-12 00:00:00-04:00   59825400        0.0           0.0  \n",
       "2024-03-13 00:00:00-04:00   52488700        0.0           0.0  \n",
       "2024-03-14 00:00:00-04:00   72913500        0.0           0.0  \n",
       "2024-03-15 00:00:00-04:00  121664700        0.0           0.0  \n",
       "\n",
       "[10905 rows x 7 columns]"
      ]
     },
     "execution_count": 61,
     "metadata": {},
     "output_type": "execute_result"
    }
   ],
   "source": [
    "# We get more than 10,000 records depending on when the Stock was cerated. Each row relates to one trading day\n",
    "# We are not going to use the Dividends and Stock Splits to keep things simple. If Splits is on our way, we will assess the changes\n",
    "# We are going to use the columns [ 'Open', 'High', 'Low', 'Close', 'Volume'] to predict whether the price of the stock will go up or down the following day\n",
    "\n",
    "portfolio01"
   ]
  },
  {
   "cell_type": "code",
   "execution_count": 62,
   "id": "3e7ddd5b-9c2d-4c13-8210-72a4adb61159",
   "metadata": {},
   "outputs": [
    {
     "data": {
      "text/plain": [
       "<Axes: xlabel='Date'>"
      ]
     },
     "execution_count": 62,
     "metadata": {},
     "output_type": "execute_result"
    },
    {
     "data": {
      "image/png": "[encoded data removed]",
      "text/plain": [
       "<Figure size 640x480 with 1 Axes>"
      ]
     },
     "metadata": {},
     "output_type": "display_data"
    }
   ],
   "source": [
    "# Let's look at the evolution of the stock using the value on the closing time\n",
    "portfolio01.plot.line(y=\"Close\", use_index=True)"
   ]
  },
  {
   "cell_type": "code",
   "execution_count": 63,
   "id": "1b02b64d-9eef-489f-894d-26f9e6792db5",
   "metadata": {},
   "outputs": [],
   "source": [
    "del portfolio01[\"Dividends\"]\n",
    "del portfolio01[\"Stock Splits\"]"
   ]
  },
  {
   "cell_type": "code",
   "execution_count": 64,
   "id": "f25e1594-1cd2-47ae-bb50-a0d17ac35c69",
   "metadata": {},
   "outputs": [],
   "source": [
    "# Let's take the value of the following trading day and to build a Target variable on the current day\n",
    "# This is how we are going to qualify a day as being a good day to invest or not\n",
    "portfolio01[\"Tomorrow\"] = portfolio01[\"Close\"].shift(-1)\n",
    "portfolio01[\"Target\"] = (portfolio01[\"Tomorrow\"] > portfolio01[\"Close\"]).astype(int)"
   ]
  },
  {
   "cell_type": "code",
   "execution_count": 67,
   "id": "4fccd75c",
   "metadata": {},
   "outputs": [
    {
     "data": {
      "text/html": [
       "<div>\n",
       "<style scoped>\n",
       "    .dataframe tbody tr th:only-of-type {\n",
       "        vertical-align: middle;\n",
       "    }\n",
       "\n",
       "    .dataframe tbody tr th {\n",
       "        vertical-align: top;\n",
       "    }\n",
       "\n",
       "    .dataframe thead th {\n",
       "        text-align: right;\n",
       "    }\n",
       "</style>\n",
       "<table border=\"1\" class=\"dataframe\">\n",
       "  <thead>\n",
       "    <tr style=\"text-align: right;\">\n",
       "      <th></th>\n",
       "      <th>Open</th>\n",
       "      <th>High</th>\n",
       "      <th>Low</th>\n",
       "      <th>Close</th>\n",
       "      <th>Volume</th>\n",
       "      <th>Tomorrow</th>\n",
       "      <th>Target</th>\n",
       "    </tr>\n",
       "    <tr>\n",
       "      <th>Date</th>\n",
       "      <th></th>\n",
       "      <th></th>\n",
       "      <th></th>\n",
       "      <th></th>\n",
       "      <th></th>\n",
       "      <th></th>\n",
       "      <th></th>\n",
       "    </tr>\n",
       "  </thead>\n",
       "  <tbody>\n",
       "    <tr>\n",
       "      <th>1990-01-02 00:00:00-05:00</th>\n",
       "      <td>0.248953</td>\n",
       "      <td>0.264843</td>\n",
       "      <td>0.247188</td>\n",
       "      <td>0.263078</td>\n",
       "      <td>183198400</td>\n",
       "      <td>0.264843</td>\n",
       "      <td>1</td>\n",
       "    </tr>\n",
       "    <tr>\n",
       "      <th>1990-01-03 00:00:00-05:00</th>\n",
       "      <td>0.268375</td>\n",
       "      <td>0.268375</td>\n",
       "      <td>0.264843</td>\n",
       "      <td>0.264843</td>\n",
       "      <td>207995200</td>\n",
       "      <td>0.265727</td>\n",
       "      <td>1</td>\n",
       "    </tr>\n",
       "    <tr>\n",
       "      <th>1990-01-04 00:00:00-05:00</th>\n",
       "      <td>0.270141</td>\n",
       "      <td>0.273672</td>\n",
       "      <td>0.263078</td>\n",
       "      <td>0.265727</td>\n",
       "      <td>221513600</td>\n",
       "      <td>0.266610</td>\n",
       "      <td>1</td>\n",
       "    </tr>\n",
       "    <tr>\n",
       "      <th>1990-01-05 00:00:00-05:00</th>\n",
       "      <td>0.266610</td>\n",
       "      <td>0.270141</td>\n",
       "      <td>0.261312</td>\n",
       "      <td>0.266610</td>\n",
       "      <td>123312000</td>\n",
       "      <td>0.268375</td>\n",
       "      <td>1</td>\n",
       "    </tr>\n",
       "    <tr>\n",
       "      <th>1990-01-08 00:00:00-05:00</th>\n",
       "      <td>0.264843</td>\n",
       "      <td>0.268375</td>\n",
       "      <td>0.261312</td>\n",
       "      <td>0.268375</td>\n",
       "      <td>101572800</td>\n",
       "      <td>0.265727</td>\n",
       "      <td>0</td>\n",
       "    </tr>\n",
       "    <tr>\n",
       "      <th>...</th>\n",
       "      <td>...</td>\n",
       "      <td>...</td>\n",
       "      <td>...</td>\n",
       "      <td>...</td>\n",
       "      <td>...</td>\n",
       "      <td>...</td>\n",
       "      <td>...</td>\n",
       "    </tr>\n",
       "    <tr>\n",
       "      <th>2024-03-11 00:00:00-04:00</th>\n",
       "      <td>172.940002</td>\n",
       "      <td>174.380005</td>\n",
       "      <td>172.050003</td>\n",
       "      <td>172.750000</td>\n",
       "      <td>60139500</td>\n",
       "      <td>173.229996</td>\n",
       "      <td>1</td>\n",
       "    </tr>\n",
       "    <tr>\n",
       "      <th>2024-03-12 00:00:00-04:00</th>\n",
       "      <td>173.149994</td>\n",
       "      <td>174.029999</td>\n",
       "      <td>171.009995</td>\n",
       "      <td>173.229996</td>\n",
       "      <td>59825400</td>\n",
       "      <td>171.130005</td>\n",
       "      <td>0</td>\n",
       "    </tr>\n",
       "    <tr>\n",
       "      <th>2024-03-13 00:00:00-04:00</th>\n",
       "      <td>172.770004</td>\n",
       "      <td>173.190002</td>\n",
       "      <td>170.759995</td>\n",
       "      <td>171.130005</td>\n",
       "      <td>52488700</td>\n",
       "      <td>173.000000</td>\n",
       "      <td>1</td>\n",
       "    </tr>\n",
       "    <tr>\n",
       "      <th>2024-03-14 00:00:00-04:00</th>\n",
       "      <td>172.910004</td>\n",
       "      <td>174.309998</td>\n",
       "      <td>172.050003</td>\n",
       "      <td>173.000000</td>\n",
       "      <td>72913500</td>\n",
       "      <td>172.619995</td>\n",
       "      <td>0</td>\n",
       "    </tr>\n",
       "    <tr>\n",
       "      <th>2024-03-15 00:00:00-04:00</th>\n",
       "      <td>171.169998</td>\n",
       "      <td>172.619995</td>\n",
       "      <td>170.289993</td>\n",
       "      <td>172.619995</td>\n",
       "      <td>121664700</td>\n",
       "      <td>NaN</td>\n",
       "      <td>0</td>\n",
       "    </tr>\n",
       "  </tbody>\n",
       "</table>\n",
       "<p>8617 rows × 7 columns</p>\n",
       "</div>"
      ],
      "text/plain": [
       "                                 Open        High         Low       Close  \\\n",
       "Date                                                                        \n",
       "1990-01-02 00:00:00-05:00    0.248953    0.264843    0.247188    0.263078   \n",
       "1990-01-03 00:00:00-05:00    0.268375    0.268375    0.264843    0.264843   \n",
       "1990-01-04 00:00:00-05:00    0.270141    0.273672    0.263078    0.265727   \n",
       "1990-01-05 00:00:00-05:00    0.266610    0.270141    0.261312    0.266610   \n",
       "1990-01-08 00:00:00-05:00    0.264843    0.268375    0.261312    0.268375   \n",
       "...                               ...         ...         ...         ...   \n",
       "2024-03-11 00:00:00-04:00  172.940002  174.380005  172.050003  172.750000   \n",
       "2024-03-12 00:00:00-04:00  173.149994  174.029999  171.009995  173.229996   \n",
       "2024-03-13 00:00:00-04:00  172.770004  173.190002  170.759995  171.130005   \n",
       "2024-03-14 00:00:00-04:00  172.910004  174.309998  172.050003  173.000000   \n",
       "2024-03-15 00:00:00-04:00  171.169998  172.619995  170.289993  172.619995   \n",
       "\n",
       "                              Volume    Tomorrow  Target  \n",
       "Date                                                      \n",
       "1990-01-02 00:00:00-05:00  183198400    0.264843       1  \n",
       "1990-01-03 00:00:00-05:00  207995200    0.265727       1  \n",
       "1990-01-04 00:00:00-05:00  221513600    0.266610       1  \n",
       "1990-01-05 00:00:00-05:00  123312000    0.268375       1  \n",
       "1990-01-08 00:00:00-05:00  101572800    0.265727       0  \n",
       "...                              ...         ...     ...  \n",
       "2024-03-11 00:00:00-04:00   60139500  173.229996       1  \n",
       "2024-03-12 00:00:00-04:00   59825400  171.130005       0  \n",
       "2024-03-13 00:00:00-04:00   52488700  173.000000       1  \n",
       "2024-03-14 00:00:00-04:00   72913500  172.619995       0  \n",
       "2024-03-15 00:00:00-04:00  121664700         NaN       0  \n",
       "\n",
       "[8617 rows x 7 columns]"
      ]
     },
     "execution_count": 67,
     "metadata": {},
     "output_type": "execute_result"
    }
   ],
   "source": [
    "portfolio01"
   ]
  },
  {
   "cell_type": "code",
   "execution_count": 65,
   "id": "79e58626-3be6-45f7-b1aa-1786593e3bd6",
   "metadata": {},
   "outputs": [],
   "source": [
    "# Making a new Portfolio choosing a start date until today\n",
    "portfolio01 = portfolio01.loc[\"1990-01-01\":].copy()"
   ]
  },
  {
   "cell_type": "markdown",
   "id": "297e07f8",
   "metadata": {},
   "source": [
    "We are going to use RandomForestClassifier. It runs several DecisionTrees algorithms with randomized parameters and average the results<br>\n",
    "It does not overfit as much. It picks non linear relationships, which caracterize Trading data<br>\n",
    "min_ samples_split not too high to prevent Decition Trees to go too deep, and overfit<br>\n",
    "We cannot use cross validation with time series type of data, otherwise we would be leaking information"
   ]
  },
  {
   "cell_type": "code",
   "execution_count": 69,
   "id": "ad95d689-520a-4141-ab6e-a0fe3f9697a6",
   "metadata": {},
   "outputs": [
    {
     "data": {
      "text/html": [
       "<style>#sk-container-id-2 {color: black;}#sk-container-id-2 pre{padding: 0;}#sk-container-id-2 div.sk-toggleable {background-color: white;}#sk-container-id-2 label.sk-toggleable__label {cursor: pointer;display: block;width: 100%;margin-bottom: 0;padding: 0.3em;box-sizing: border-box;text-align: center;}#sk-container-id-2 label.sk-toggleable__label-arrow:before {content: \"▸\";float: left;margin-right: 0.25em;color: #696969;}#sk-container-id-2 label.sk-toggleable__label-arrow:hover:before {color: black;}#sk-container-id-2 div.sk-estimator:hover label.sk-toggleable__label-arrow:before {color: black;}#sk-container-id-2 div.sk-toggleable__content {max-height: 0;max-width: 0;overflow: hidden;text-align: left;background-color: #f0f8ff;}#sk-container-id-2 div.sk-toggleable__content pre {margin: 0.2em;color: black;border-radius: 0.25em;background-color: #f0f8ff;}#sk-container-id-2 input.sk-toggleable__control:checked~div.sk-toggleable__content {max-height: 200px;max-width: 100%;overflow: auto;}#sk-container-id-2 input.sk-toggleable__control:checked~label.sk-toggleable__label-arrow:before {content: \"▾\";}#sk-container-id-2 div.sk-estimator input.sk-toggleable__control:checked~label.sk-toggleable__label {background-color: #d4ebff;}#sk-container-id-2 div.sk-label input.sk-toggleable__control:checked~label.sk-toggleable__label {background-color: #d4ebff;}#sk-container-id-2 input.sk-hidden--visually {border: 0;clip: rect(1px 1px 1px 1px);clip: rect(1px, 1px, 1px, 1px);height: 1px;margin: -1px;overflow: hidden;padding: 0;position: absolute;width: 1px;}#sk-container-id-2 div.sk-estimator {font-family: monospace;background-color: #f0f8ff;border: 1px dotted black;border-radius: 0.25em;box-sizing: border-box;margin-bottom: 0.5em;}#sk-container-id-2 div.sk-estimator:hover {background-color: #d4ebff;}#sk-container-id-2 div.sk-parallel-item::after {content: \"\";width: 100%;border-bottom: 1px solid gray;flex-grow: 1;}#sk-container-id-2 div.sk-label:hover label.sk-toggleable__label {background-color: #d4ebff;}#sk-container-id-2 div.sk-serial::before {content: \"\";position: absolute;border-left: 1px solid gray;box-sizing: border-box;top: 0;bottom: 0;left: 50%;z-index: 0;}#sk-container-id-2 div.sk-serial {display: flex;flex-direction: column;align-items: center;background-color: white;padding-right: 0.2em;padding-left: 0.2em;position: relative;}#sk-container-id-2 div.sk-item {position: relative;z-index: 1;}#sk-container-id-2 div.sk-parallel {display: flex;align-items: stretch;justify-content: center;background-color: white;position: relative;}#sk-container-id-2 div.sk-item::before, #sk-container-id-2 div.sk-parallel-item::before {content: \"\";position: absolute;border-left: 1px solid gray;box-sizing: border-box;top: 0;bottom: 0;left: 50%;z-index: -1;}#sk-container-id-2 div.sk-parallel-item {display: flex;flex-direction: column;z-index: 1;position: relative;background-color: white;}#sk-container-id-2 div.sk-parallel-item:first-child::after {align-self: flex-end;width: 50%;}#sk-container-id-2 div.sk-parallel-item:last-child::after {align-self: flex-start;width: 50%;}#sk-container-id-2 div.sk-parallel-item:only-child::after {width: 0;}#sk-container-id-2 div.sk-dashed-wrapped {border: 1px dashed gray;margin: 0 0.4em 0.5em 0.4em;box-sizing: border-box;padding-bottom: 0.4em;background-color: white;}#sk-container-id-2 div.sk-label label {font-family: monospace;font-weight: bold;display: inline-block;line-height: 1.2em;}#sk-container-id-2 div.sk-label-container {text-align: center;}#sk-container-id-2 div.sk-container {/* jupyter's `normalize.less` sets `[hidden] { display: none; }` but bootstrap.min.css set `[hidden] { display: none !important; }` so we also need the `!important` here to be able to override the default hidden behavior on the sphinx rendered scikit-learn.org. See: https://github.com/scikit-learn/scikit-learn/issues/21755 */display: inline-block !important;position: relative;}#sk-container-id-2 div.sk-text-repr-fallback {display: none;}</style><div id=\"sk-container-id-2\" class=\"sk-top-container\"><div class=\"sk-text-repr-fallback\"><pre>RandomForestClassifier(min_samples_split=100, random_state=1)</pre><b>In a Jupyter environment, please rerun this cell to show the HTML representation or trust the notebook. <br />On GitHub, the HTML representation is unable to render, please try loading this page with nbviewer.org.</b></div><div class=\"sk-container\" hidden><div class=\"sk-item\"><div class=\"sk-estimator sk-toggleable\"><input class=\"sk-toggleable__control sk-hidden--visually\" id=\"sk-estimator-id-2\" type=\"checkbox\" checked><label for=\"sk-estimator-id-2\" class=\"sk-toggleable__label sk-toggleable__label-arrow\">RandomForestClassifier</label><div class=\"sk-toggleable__content\"><pre>RandomForestClassifier(min_samples_split=100, random_state=1)</pre></div></div></div></div></div>"
      ],
      "text/plain": [
       "RandomForestClassifier(min_samples_split=100, random_state=1)"
      ]
     },
     "execution_count": 69,
     "metadata": {},
     "output_type": "execute_result"
    }
   ],
   "source": [
    "from sklearn.ensemble import RandomForestClassifier\n",
    "\n",
    "model = RandomForestClassifier(n_estimators=100, min_samples_split=100, random_state=1)\n",
    "\n",
    "train = portfolio01.iloc[:-100]\n",
    "test = portfolio01.iloc[-100:]\n",
    "\n",
    "predictors = [\"Close\", \"Volume\", \"Open\", \"High\", \"Low\"]\n",
    "model.fit(train[predictors], train[\"Target\"])"
   ]
  },
  {
   "cell_type": "code",
   "execution_count": 70,
   "id": "c0837787-5d4e-4a20-ad0d-3a546bc23cdb",
   "metadata": {},
   "outputs": [
    {
     "data": {
      "text/plain": [
       "0.45652173913043476"
      ]
     },
     "execution_count": 70,
     "metadata": {},
     "output_type": "execute_result"
    }
   ],
   "source": [
    "from sklearn.metrics import precision_score\n",
    "\n",
    "preds = model.predict(test[predictors])\n",
    "preds = pd.Series(preds, index=test.index)\n",
    "precision_score(test[\"Target\"], preds)"
   ]
  },
  {
   "cell_type": "markdown",
   "id": "ae755621",
   "metadata": {},
   "source": [
    "That's a predict bad model to predict. Looks like we would be losing money"
   ]
  },
  {
   "cell_type": "code",
   "execution_count": 71,
   "id": "e33e349f-8365-4282-91db-3b5824e83262",
   "metadata": {},
   "outputs": [
    {
     "data": {
      "text/plain": [
       "<Axes: xlabel='Date'>"
      ]
     },
     "execution_count": 71,
     "metadata": {},
     "output_type": "execute_result"
    },
    {
     "data": {
      "image/png": "[encoded data removed]",
      "text/plain": [
       "<Figure size 640x480 with 1 Axes>"
      ]
     },
     "metadata": {},
     "output_type": "display_data"
    }
   ],
   "source": [
    "combined = pd.concat([test[\"Target\"], preds], axis=1)\n",
    "combined.plot()"
   ]
  },
  {
   "cell_type": "markdown",
   "id": "a98f3d4f",
   "metadata": {},
   "source": [
    "We are going to trigger the model on the historical data, going back 10 years and evaluating the result for the following year<br>\n",
    "Take 11 years of data, and predict for the following year..."
   ]
  },
  {
   "cell_type": "code",
   "execution_count": 39,
   "id": "d4049497-0ee7-4399-83ab-ef61ccf71133",
   "metadata": {},
   "outputs": [],
   "source": [
    "def predict(train, test, predictors, model):\n",
    "    model.fit(train[predictors], train[\"Target\"])\n",
    "    preds = model.predict(test[predictors])\n",
    "    preds = pd.Series(preds, index=test.index, name=\"Predictions\")\n",
    "    combined = pd.concat([test[\"Target\"], preds], axis=1)\n",
    "    return combined"
   ]
  },
  {
   "cell_type": "code",
   "execution_count": 72,
   "id": "ca97d93a-6841-49ef-8f91-25a713baef16",
   "metadata": {},
   "outputs": [],
   "source": [
    "def backtest(data, model, predictors, start=2500, step=250):\n",
    "    all_predictions = []\n",
    "\n",
    "    for i in range(start, data.shape[0], step):\n",
    "        train = data.iloc[0:i].copy()\n",
    "        test = data.iloc[i:(i+step)].copy()\n",
    "        predictions = predict(train, test, predictors, model)\n",
    "        all_predictions.append(predictions)\n",
    "    \n",
    "    return pd.concat(all_predictions) # Concatenate a list of dataframes into a dataframe"
   ]
  },
  {
   "cell_type": "code",
   "execution_count": 73,
   "id": "8a75261f-d2de-4bc6-9364-54d520c63985",
   "metadata": {},
   "outputs": [],
   "source": [
    "predictions = backtest(portfolio01, model, predictors)"
   ]
  },
  {
   "cell_type": "markdown",
   "id": "f9832652",
   "metadata": {},
   "source": [
    "Numbers of predictions that market will go up or down"
   ]
  },
  {
   "cell_type": "code",
   "execution_count": 74,
   "id": "439d8704-c55d-4d1f-a709-acdc0f485e87",
   "metadata": {},
   "outputs": [
    {
     "data": {
      "text/plain": [
       "Predictions\n",
       "0.0    5550\n",
       "1.0     567\n",
       "Name: count, dtype: int64"
      ]
     },
     "execution_count": 74,
     "metadata": {},
     "output_type": "execute_result"
    }
   ],
   "source": [
    "predictions[\"Predictions\"].value_counts()"
   ]
  },
  {
   "cell_type": "code",
   "execution_count": 75,
   "id": "bf105e8f-6be5-4494-9658-233761f1c4f4",
   "metadata": {},
   "outputs": [
    {
     "data": {
      "text/plain": [
       "0.5149911816578483"
      ]
     },
     "execution_count": 75,
     "metadata": {},
     "output_type": "execute_result"
    }
   ],
   "source": [
    "precision_score(predictions[\"Target\"], predictions[\"Predictions\"])"
   ]
  },
  {
   "cell_type": "markdown",
   "id": "097309eb",
   "metadata": {},
   "source": [
    "Actual behavior of the Stock to compare to our prediction. Better off waking up and investing each day"
   ]
  },
  {
   "cell_type": "code",
   "execution_count": 76,
   "id": "eff25a20-375e-444a-b5d3-b558753fc817",
   "metadata": {},
   "outputs": [
    {
     "data": {
      "text/plain": [
       "Target\n",
       "1    0.520353\n",
       "0    0.479647\n",
       "Name: count, dtype: float64"
      ]
     },
     "execution_count": 76,
     "metadata": {},
     "output_type": "execute_result"
    }
   ],
   "source": [
    "predictions[\"Target\"].value_counts() / predictions.shape[0]"
   ]
  },
  {
   "cell_type": "markdown",
   "id": "0da1c118",
   "metadata": {},
   "source": [
    "We are going to add as predictors, the information regarding the stock value 2 days ago, a week, 3 months and 4 years<br>\n",
    "The rolling method is useful calculating moving averages or other rolling window calculations in time series data or any sequential data"
   ]
  },
  {
   "cell_type": "code",
   "execution_count": 45,
   "id": "ed05ece5-f1f4-443a-b179-33c7e709ea4d",
   "metadata": {},
   "outputs": [],
   "source": [
    "horizons = [2,5,60,250,1000]\n",
    "new_predictors = []\n",
    "\n",
    "for horizon in horizons:\n",
    "    rolling_averages = portfolio01.rolling(horizon).mean()\n",
    "    \n",
    "    ratio_column = f\"Close_Ratio_{horizon}\"\n",
    "    portfolio01[ratio_column] = portfolio01[\"Close\"] / rolling_averages[\"Close\"]\n",
    "    \n",
    "    trend_column = f\"Trend_{horizon}\"\n",
    "    portfolio01[trend_column] = portfolio01.shift(1).rolling(horizon).sum()[\"Target\"]\n",
    "    \n",
    "    new_predictors+= [ratio_column, trend_column]"
   ]
  },
  {
   "cell_type": "markdown",
   "id": "411d4c47",
   "metadata": {},
   "source": [
    "Drop the NaN values from the dataframe<br>\n",
    "Note: this will dramatically reduce the number of rows because of the rolling computation over 4 years"
   ]
  },
  {
   "cell_type": "code",
   "execution_count": 46,
   "id": "6c04ab2d-64ff-4f56-a206-605dcce30372",
   "metadata": {},
   "outputs": [],
   "source": [
    "portfolio01 = portfolio01.dropna(subset=portfolio01.columns[portfolio01.columns != \"Tomorrow\"])"
   ]
  },
  {
   "cell_type": "code",
   "execution_count": 47,
   "id": "fd7b2523-85a4-477d-975d-9cf64b1ff557",
   "metadata": {},
   "outputs": [
    {
     "data": {
      "text/html": [
       "<div>\n",
       "<style scoped>\n",
       "    .dataframe tbody tr th:only-of-type {\n",
       "        vertical-align: middle;\n",
       "    }\n",
       "\n",
       "    .dataframe tbody tr th {\n",
       "        vertical-align: top;\n",
       "    }\n",
       "\n",
       "    .dataframe thead th {\n",
       "        text-align: right;\n",
       "    }\n",
       "</style>\n",
       "<table border=\"1\" class=\"dataframe\">\n",
       "  <thead>\n",
       "    <tr style=\"text-align: right;\">\n",
       "      <th></th>\n",
       "      <th>Open</th>\n",
       "      <th>High</th>\n",
       "      <th>Low</th>\n",
       "      <th>Close</th>\n",
       "      <th>Volume</th>\n",
       "      <th>Tomorrow</th>\n",
       "      <th>Target</th>\n",
       "      <th>Close_Ratio_2</th>\n",
       "      <th>Trend_2</th>\n",
       "      <th>Close_Ratio_5</th>\n",
       "      <th>Trend_5</th>\n",
       "      <th>Close_Ratio_60</th>\n",
       "      <th>Trend_60</th>\n",
       "      <th>Close_Ratio_250</th>\n",
       "      <th>Trend_250</th>\n",
       "      <th>Close_Ratio_1000</th>\n",
       "      <th>Trend_1000</th>\n",
       "    </tr>\n",
       "    <tr>\n",
       "      <th>Date</th>\n",
       "      <th></th>\n",
       "      <th></th>\n",
       "      <th></th>\n",
       "      <th></th>\n",
       "      <th></th>\n",
       "      <th></th>\n",
       "      <th></th>\n",
       "      <th></th>\n",
       "      <th></th>\n",
       "      <th></th>\n",
       "      <th></th>\n",
       "      <th></th>\n",
       "      <th></th>\n",
       "      <th></th>\n",
       "      <th></th>\n",
       "      <th></th>\n",
       "      <th></th>\n",
       "    </tr>\n",
       "  </thead>\n",
       "  <tbody>\n",
       "    <tr>\n",
       "      <th>1993-12-14 00:00:00-05:00</th>\n",
       "      <td>0.215566</td>\n",
       "      <td>0.219251</td>\n",
       "      <td>0.213724</td>\n",
       "      <td>0.214645</td>\n",
       "      <td>293664000</td>\n",
       "      <td>0.219251</td>\n",
       "      <td>1</td>\n",
       "      <td>0.993604</td>\n",
       "      <td>1.0</td>\n",
       "      <td>0.978993</td>\n",
       "      <td>1.0</td>\n",
       "      <td>1.007241</td>\n",
       "      <td>22.0</td>\n",
       "      <td>0.694753</td>\n",
       "      <td>111.0</td>\n",
       "      <td>0.637248</td>\n",
       "      <td>462.0</td>\n",
       "    </tr>\n",
       "    <tr>\n",
       "      <th>1993-12-15 00:00:00-05:00</th>\n",
       "      <td>0.213724</td>\n",
       "      <td>0.219251</td>\n",
       "      <td>0.213724</td>\n",
       "      <td>0.219251</td>\n",
       "      <td>123883200</td>\n",
       "      <td>0.216488</td>\n",
       "      <td>0</td>\n",
       "      <td>1.010615</td>\n",
       "      <td>1.0</td>\n",
       "      <td>1.014493</td>\n",
       "      <td>2.0</td>\n",
       "      <td>1.025699</td>\n",
       "      <td>23.0</td>\n",
       "      <td>0.711547</td>\n",
       "      <td>111.0</td>\n",
       "      <td>0.651010</td>\n",
       "      <td>462.0</td>\n",
       "    </tr>\n",
       "    <tr>\n",
       "      <th>1993-12-16 00:00:00-05:00</th>\n",
       "      <td>0.217409</td>\n",
       "      <td>0.219251</td>\n",
       "      <td>0.213724</td>\n",
       "      <td>0.216488</td>\n",
       "      <td>126369600</td>\n",
       "      <td>0.217409</td>\n",
       "      <td>1</td>\n",
       "      <td>0.993658</td>\n",
       "      <td>1.0</td>\n",
       "      <td>1.005994</td>\n",
       "      <td>2.0</td>\n",
       "      <td>1.010468</td>\n",
       "      <td>22.0</td>\n",
       "      <td>0.704569</td>\n",
       "      <td>110.0</td>\n",
       "      <td>0.642898</td>\n",
       "      <td>461.0</td>\n",
       "    </tr>\n",
       "    <tr>\n",
       "      <th>1993-12-17 00:00:00-05:00</th>\n",
       "      <td>0.217409</td>\n",
       "      <td>0.219251</td>\n",
       "      <td>0.214645</td>\n",
       "      <td>0.217409</td>\n",
       "      <td>145152000</td>\n",
       "      <td>0.210039</td>\n",
       "      <td>0</td>\n",
       "      <td>1.002123</td>\n",
       "      <td>1.0</td>\n",
       "      <td>1.001698</td>\n",
       "      <td>3.0</td>\n",
       "      <td>1.011960</td>\n",
       "      <td>23.0</td>\n",
       "      <td>0.709636</td>\n",
       "      <td>110.0</td>\n",
       "      <td>0.645728</td>\n",
       "      <td>461.0</td>\n",
       "    </tr>\n",
       "    <tr>\n",
       "      <th>1993-12-20 00:00:00-05:00</th>\n",
       "      <td>0.215567</td>\n",
       "      <td>0.219251</td>\n",
       "      <td>0.208196</td>\n",
       "      <td>0.210039</td>\n",
       "      <td>189033600</td>\n",
       "      <td>0.202669</td>\n",
       "      <td>0</td>\n",
       "      <td>0.982758</td>\n",
       "      <td>1.0</td>\n",
       "      <td>0.974358</td>\n",
       "      <td>2.0</td>\n",
       "      <td>0.975652</td>\n",
       "      <td>22.0</td>\n",
       "      <td>0.687599</td>\n",
       "      <td>110.0</td>\n",
       "      <td>0.623946</td>\n",
       "      <td>460.0</td>\n",
       "    </tr>\n",
       "    <tr>\n",
       "      <th>...</th>\n",
       "      <td>...</td>\n",
       "      <td>...</td>\n",
       "      <td>...</td>\n",
       "      <td>...</td>\n",
       "      <td>...</td>\n",
       "      <td>...</td>\n",
       "      <td>...</td>\n",
       "      <td>...</td>\n",
       "      <td>...</td>\n",
       "      <td>...</td>\n",
       "      <td>...</td>\n",
       "      <td>...</td>\n",
       "      <td>...</td>\n",
       "      <td>...</td>\n",
       "      <td>...</td>\n",
       "      <td>...</td>\n",
       "      <td>...</td>\n",
       "    </tr>\n",
       "    <tr>\n",
       "      <th>2024-03-11 00:00:00-04:00</th>\n",
       "      <td>172.940002</td>\n",
       "      <td>174.380005</td>\n",
       "      <td>172.050003</td>\n",
       "      <td>172.750000</td>\n",
       "      <td>60139500</td>\n",
       "      <td>173.229996</td>\n",
       "      <td>1</td>\n",
       "      <td>1.005881</td>\n",
       "      <td>2.0</td>\n",
       "      <td>1.014124</td>\n",
       "      <td>2.0</td>\n",
       "      <td>0.927380</td>\n",
       "      <td>22.0</td>\n",
       "      <td>0.961397</td>\n",
       "      <td>128.0</td>\n",
       "      <td>1.192018</td>\n",
       "      <td>521.0</td>\n",
       "    </tr>\n",
       "    <tr>\n",
       "      <th>2024-03-12 00:00:00-04:00</th>\n",
       "      <td>173.149994</td>\n",
       "      <td>174.029999</td>\n",
       "      <td>171.009995</td>\n",
       "      <td>173.229996</td>\n",
       "      <td>59825400</td>\n",
       "      <td>171.130005</td>\n",
       "      <td>0</td>\n",
       "      <td>1.001387</td>\n",
       "      <td>2.0</td>\n",
       "      <td>1.013242</td>\n",
       "      <td>3.0</td>\n",
       "      <td>0.931998</td>\n",
       "      <td>22.0</td>\n",
       "      <td>0.963608</td>\n",
       "      <td>128.0</td>\n",
       "      <td>1.194363</td>\n",
       "      <td>522.0</td>\n",
       "    </tr>\n",
       "    <tr>\n",
       "      <th>2024-03-13 00:00:00-04:00</th>\n",
       "      <td>172.770004</td>\n",
       "      <td>173.190002</td>\n",
       "      <td>170.759995</td>\n",
       "      <td>171.130005</td>\n",
       "      <td>52488700</td>\n",
       "      <td>173.000000</td>\n",
       "      <td>1</td>\n",
       "      <td>0.993902</td>\n",
       "      <td>1.0</td>\n",
       "      <td>0.998611</td>\n",
       "      <td>3.0</td>\n",
       "      <td>0.922912</td>\n",
       "      <td>21.0</td>\n",
       "      <td>0.951525</td>\n",
       "      <td>127.0</td>\n",
       "      <td>1.178938</td>\n",
       "      <td>522.0</td>\n",
       "    </tr>\n",
       "    <tr>\n",
       "      <th>2024-03-14 00:00:00-04:00</th>\n",
       "      <td>172.910004</td>\n",
       "      <td>174.309998</td>\n",
       "      <td>172.050003</td>\n",
       "      <td>173.000000</td>\n",
       "      <td>72913500</td>\n",
       "      <td>172.619995</td>\n",
       "      <td>0</td>\n",
       "      <td>1.005434</td>\n",
       "      <td>1.0</td>\n",
       "      <td>1.004832</td>\n",
       "      <td>4.0</td>\n",
       "      <td>0.935041</td>\n",
       "      <td>22.0</td>\n",
       "      <td>0.961538</td>\n",
       "      <td>127.0</td>\n",
       "      <td>1.190895</td>\n",
       "      <td>522.0</td>\n",
       "    </tr>\n",
       "    <tr>\n",
       "      <th>2024-03-15 00:00:00-04:00</th>\n",
       "      <td>171.169998</td>\n",
       "      <td>172.619995</td>\n",
       "      <td>170.289993</td>\n",
       "      <td>172.619995</td>\n",
       "      <td>121664700</td>\n",
       "      <td>NaN</td>\n",
       "      <td>0</td>\n",
       "      <td>0.998901</td>\n",
       "      <td>1.0</td>\n",
       "      <td>1.000429</td>\n",
       "      <td>3.0</td>\n",
       "      <td>0.934926</td>\n",
       "      <td>22.0</td>\n",
       "      <td>0.959033</td>\n",
       "      <td>127.0</td>\n",
       "      <td>1.187357</td>\n",
       "      <td>522.0</td>\n",
       "    </tr>\n",
       "  </tbody>\n",
       "</table>\n",
       "<p>7617 rows × 17 columns</p>\n",
       "</div>"
      ],
      "text/plain": [
       "                                 Open        High         Low       Close  \\\n",
       "Date                                                                        \n",
       "1993-12-14 00:00:00-05:00    0.215566    0.219251    0.213724    0.214645   \n",
       "1993-12-15 00:00:00-05:00    0.213724    0.219251    0.213724    0.219251   \n",
       "1993-12-16 00:00:00-05:00    0.217409    0.219251    0.213724    0.216488   \n",
       "1993-12-17 00:00:00-05:00    0.217409    0.219251    0.214645    0.217409   \n",
       "1993-12-20 00:00:00-05:00    0.215567    0.219251    0.208196    0.210039   \n",
       "...                               ...         ...         ...         ...   \n",
       "2024-03-11 00:00:00-04:00  172.940002  174.380005  172.050003  172.750000   \n",
       "2024-03-12 00:00:00-04:00  173.149994  174.029999  171.009995  173.229996   \n",
       "2024-03-13 00:00:00-04:00  172.770004  173.190002  170.759995  171.130005   \n",
       "2024-03-14 00:00:00-04:00  172.910004  174.309998  172.050003  173.000000   \n",
       "2024-03-15 00:00:00-04:00  171.169998  172.619995  170.289993  172.619995   \n",
       "\n",
       "                              Volume    Tomorrow  Target  Close_Ratio_2  \\\n",
       "Date                                                                      \n",
       "1993-12-14 00:00:00-05:00  293664000    0.219251       1       0.993604   \n",
       "1993-12-15 00:00:00-05:00  123883200    0.216488       0       1.010615   \n",
       "1993-12-16 00:00:00-05:00  126369600    0.217409       1       0.993658   \n",
       "1993-12-17 00:00:00-05:00  145152000    0.210039       0       1.002123   \n",
       "1993-12-20 00:00:00-05:00  189033600    0.202669       0       0.982758   \n",
       "...                              ...         ...     ...            ...   \n",
       "2024-03-11 00:00:00-04:00   60139500  173.229996       1       1.005881   \n",
       "2024-03-12 00:00:00-04:00   59825400  171.130005       0       1.001387   \n",
       "2024-03-13 00:00:00-04:00   52488700  173.000000       1       0.993902   \n",
       "2024-03-14 00:00:00-04:00   72913500  172.619995       0       1.005434   \n",
       "2024-03-15 00:00:00-04:00  121664700         NaN       0       0.998901   \n",
       "\n",
       "                           Trend_2  Close_Ratio_5  Trend_5  Close_Ratio_60  \\\n",
       "Date                                                                         \n",
       "1993-12-14 00:00:00-05:00      1.0       0.978993      1.0        1.007241   \n",
       "1993-12-15 00:00:00-05:00      1.0       1.014493      2.0        1.025699   \n",
       "1993-12-16 00:00:00-05:00      1.0       1.005994      2.0        1.010468   \n",
       "1993-12-17 00:00:00-05:00      1.0       1.001698      3.0        1.011960   \n",
       "1993-12-20 00:00:00-05:00      1.0       0.974358      2.0        0.975652   \n",
       "...                            ...            ...      ...             ...   \n",
       "2024-03-11 00:00:00-04:00      2.0       1.014124      2.0        0.927380   \n",
       "2024-03-12 00:00:00-04:00      2.0       1.013242      3.0        0.931998   \n",
       "2024-03-13 00:00:00-04:00      1.0       0.998611      3.0        0.922912   \n",
       "2024-03-14 00:00:00-04:00      1.0       1.004832      4.0        0.935041   \n",
       "2024-03-15 00:00:00-04:00      1.0       1.000429      3.0        0.934926   \n",
       "\n",
       "                           Trend_60  Close_Ratio_250  Trend_250  \\\n",
       "Date                                                              \n",
       "1993-12-14 00:00:00-05:00      22.0         0.694753      111.0   \n",
       "1993-12-15 00:00:00-05:00      23.0         0.711547      111.0   \n",
       "1993-12-16 00:00:00-05:00      22.0         0.704569      110.0   \n",
       "1993-12-17 00:00:00-05:00      23.0         0.709636      110.0   \n",
       "1993-12-20 00:00:00-05:00      22.0         0.687599      110.0   \n",
       "...                             ...              ...        ...   \n",
       "2024-03-11 00:00:00-04:00      22.0         0.961397      128.0   \n",
       "2024-03-12 00:00:00-04:00      22.0         0.963608      128.0   \n",
       "2024-03-13 00:00:00-04:00      21.0         0.951525      127.0   \n",
       "2024-03-14 00:00:00-04:00      22.0         0.961538      127.0   \n",
       "2024-03-15 00:00:00-04:00      22.0         0.959033      127.0   \n",
       "\n",
       "                           Close_Ratio_1000  Trend_1000  \n",
       "Date                                                     \n",
       "1993-12-14 00:00:00-05:00          0.637248       462.0  \n",
       "1993-12-15 00:00:00-05:00          0.651010       462.0  \n",
       "1993-12-16 00:00:00-05:00          0.642898       461.0  \n",
       "1993-12-17 00:00:00-05:00          0.645728       461.0  \n",
       "1993-12-20 00:00:00-05:00          0.623946       460.0  \n",
       "...                                     ...         ...  \n",
       "2024-03-11 00:00:00-04:00          1.192018       521.0  \n",
       "2024-03-12 00:00:00-04:00          1.194363       522.0  \n",
       "2024-03-13 00:00:00-04:00          1.178938       522.0  \n",
       "2024-03-14 00:00:00-04:00          1.190895       522.0  \n",
       "2024-03-15 00:00:00-04:00          1.187357       522.0  \n",
       "\n",
       "[7617 rows x 17 columns]"
      ]
     },
     "execution_count": 47,
     "metadata": {},
     "output_type": "execute_result"
    }
   ],
   "source": [
    "portfolio01"
   ]
  },
  {
   "cell_type": "code",
   "execution_count": 48,
   "id": "283be581-dbe1-4f02-8851-ff1a027b4104",
   "metadata": {},
   "outputs": [],
   "source": [
    "model = RandomForestClassifier(n_estimators=200, min_samples_split=50, random_state=1)"
   ]
  },
  {
   "cell_type": "markdown",
   "id": "f7da5153",
   "metadata": {},
   "source": [
    "Let's consider that if the probability of the price of the stock goes up is greater than 0.6 instead of 0.5 the default"
   ]
  },
  {
   "cell_type": "code",
   "execution_count": 49,
   "id": "a843303c-a247-4f6d-9505-cc711ca95afa",
   "metadata": {},
   "outputs": [],
   "source": [
    "def predict(train, test, predictors, model):\n",
    "    model.fit(train[predictors], train[\"Target\"])\n",
    "    preds = model.predict_proba(test[predictors])[:,1]\n",
    "    preds[preds >=.6] = 1\n",
    "    preds[preds <.6] = 0\n",
    "    preds = pd.Series(preds, index=test.index, name=\"Predictions\")\n",
    "    combined = pd.concat([test[\"Target\"], preds], axis=1)\n",
    "    return combined"
   ]
  },
  {
   "cell_type": "markdown",
   "id": "837d2ca8",
   "metadata": {},
   "source": [
    "We are going to trade of fewer days"
   ]
  },
  {
   "cell_type": "code",
   "execution_count": 50,
   "id": "fb820946-1275-4914-b6a8-355e96f315b6",
   "metadata": {},
   "outputs": [],
   "source": [
    "predictions = backtest(portfolio01, model, new_predictors)"
   ]
  },
  {
   "cell_type": "code",
   "execution_count": 51,
   "id": "a73e1816-283a-47ac-af43-4550b80307ef",
   "metadata": {},
   "outputs": [
    {
     "data": {
      "text/plain": [
       "Predictions\n",
       "0.0    4582\n",
       "1.0     535\n",
       "Name: count, dtype: int64"
      ]
     },
     "execution_count": 51,
     "metadata": {},
     "output_type": "execute_result"
    }
   ],
   "source": [
    "predictions[\"Predictions\"].value_counts()"
   ]
  },
  {
   "cell_type": "code",
   "execution_count": 52,
   "id": "14acc336-4991-4189-bb16-4a8bf53056e1",
   "metadata": {},
   "outputs": [
    {
     "data": {
      "text/plain": [
       "0.5214953271028038"
      ]
     },
     "execution_count": 52,
     "metadata": {},
     "output_type": "execute_result"
    }
   ],
   "source": [
    "precision_score(predictions[\"Target\"], predictions[\"Predictions\"])"
   ]
  },
  {
   "cell_type": "code",
   "execution_count": 53,
   "id": "21b3d365-2157-4229-a785-ae687da0f21f",
   "metadata": {},
   "outputs": [
    {
     "data": {
      "text/plain": [
       "Target\n",
       "1    0.529021\n",
       "0    0.470979\n",
       "Name: count, dtype: float64"
      ]
     },
     "execution_count": 53,
     "metadata": {},
     "output_type": "execute_result"
    }
   ],
   "source": [
    "predictions[\"Target\"].value_counts() / predictions.shape[0]"
   ]
  },
  {
   "cell_type": "code",
   "execution_count": 54,
   "id": "ef08fff5-0dd5-4d86-9d0d-8ce9f7443865",
   "metadata": {},
   "outputs": [
    {
     "data": {
      "text/html": [
       "<div>\n",
       "<style scoped>\n",
       "    .dataframe tbody tr th:only-of-type {\n",
       "        vertical-align: middle;\n",
       "    }\n",
       "\n",
       "    .dataframe tbody tr th {\n",
       "        vertical-align: top;\n",
       "    }\n",
       "\n",
       "    .dataframe thead th {\n",
       "        text-align: right;\n",
       "    }\n",
       "</style>\n",
       "<table border=\"1\" class=\"dataframe\">\n",
       "  <thead>\n",
       "    <tr style=\"text-align: right;\">\n",
       "      <th></th>\n",
       "      <th>Target</th>\n",
       "      <th>Predictions</th>\n",
       "    </tr>\n",
       "    <tr>\n",
       "      <th>Date</th>\n",
       "      <th></th>\n",
       "      <th></th>\n",
       "    </tr>\n",
       "  </thead>\n",
       "  <tbody>\n",
       "    <tr>\n",
       "      <th>2003-11-14 00:00:00-05:00</th>\n",
       "      <td>0</td>\n",
       "      <td>0.0</td>\n",
       "    </tr>\n",
       "    <tr>\n",
       "      <th>2003-11-17 00:00:00-05:00</th>\n",
       "      <td>0</td>\n",
       "      <td>0.0</td>\n",
       "    </tr>\n",
       "    <tr>\n",
       "      <th>2003-11-18 00:00:00-05:00</th>\n",
       "      <td>1</td>\n",
       "      <td>0.0</td>\n",
       "    </tr>\n",
       "    <tr>\n",
       "      <th>2003-11-19 00:00:00-05:00</th>\n",
       "      <td>0</td>\n",
       "      <td>0.0</td>\n",
       "    </tr>\n",
       "    <tr>\n",
       "      <th>2003-11-20 00:00:00-05:00</th>\n",
       "      <td>0</td>\n",
       "      <td>0.0</td>\n",
       "    </tr>\n",
       "    <tr>\n",
       "      <th>...</th>\n",
       "      <td>...</td>\n",
       "      <td>...</td>\n",
       "    </tr>\n",
       "    <tr>\n",
       "      <th>2024-03-11 00:00:00-04:00</th>\n",
       "      <td>1</td>\n",
       "      <td>0.0</td>\n",
       "    </tr>\n",
       "    <tr>\n",
       "      <th>2024-03-12 00:00:00-04:00</th>\n",
       "      <td>0</td>\n",
       "      <td>0.0</td>\n",
       "    </tr>\n",
       "    <tr>\n",
       "      <th>2024-03-13 00:00:00-04:00</th>\n",
       "      <td>1</td>\n",
       "      <td>0.0</td>\n",
       "    </tr>\n",
       "    <tr>\n",
       "      <th>2024-03-14 00:00:00-04:00</th>\n",
       "      <td>0</td>\n",
       "      <td>0.0</td>\n",
       "    </tr>\n",
       "    <tr>\n",
       "      <th>2024-03-15 00:00:00-04:00</th>\n",
       "      <td>0</td>\n",
       "      <td>0.0</td>\n",
       "    </tr>\n",
       "  </tbody>\n",
       "</table>\n",
       "<p>5117 rows × 2 columns</p>\n",
       "</div>"
      ],
      "text/plain": [
       "                           Target  Predictions\n",
       "Date                                          \n",
       "2003-11-14 00:00:00-05:00       0          0.0\n",
       "2003-11-17 00:00:00-05:00       0          0.0\n",
       "2003-11-18 00:00:00-05:00       1          0.0\n",
       "2003-11-19 00:00:00-05:00       0          0.0\n",
       "2003-11-20 00:00:00-05:00       0          0.0\n",
       "...                           ...          ...\n",
       "2024-03-11 00:00:00-04:00       1          0.0\n",
       "2024-03-12 00:00:00-04:00       0          0.0\n",
       "2024-03-13 00:00:00-04:00       1          0.0\n",
       "2024-03-14 00:00:00-04:00       0          0.0\n",
       "2024-03-15 00:00:00-04:00       0          0.0\n",
       "\n",
       "[5117 rows x 2 columns]"
      ]
     },
     "execution_count": 54,
     "metadata": {},
     "output_type": "execute_result"
    }
   ],
   "source": [
    "predictions"
   ]
  },
  {
   "cell_type": "code",
   "execution_count": null,
   "id": "b2d35fd3-7038-4e69-bcbd-bde42c1f5e33",
   "metadata": {},
   "outputs": [],
   "source": []
  }
 ],
 "metadata": {
  "kernelspec": {
   "display_name": "Python 3 (ipykernel)",
   "language": "python",
   "name": "python3"
  },
  "language_info": {
   "codemirror_mode": {
    "name": "ipython",
    "version": 3
   },
   "file_extension": ".py",
   "mimetype": "text/x-python",
   "name": "python",
   "nbconvert_exporter": "python",
   "pygments_lexer": "ipython3",
   "version": "3.11.5"
  }
 },
 "nbformat": 4,
 "nbformat_minor": 5
}
