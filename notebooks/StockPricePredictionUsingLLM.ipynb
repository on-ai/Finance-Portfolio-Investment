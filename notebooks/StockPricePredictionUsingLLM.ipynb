{
 "cells": [
  {
   "cell_type": "code",
   "execution_count": null,
   "metadata": {},
   "outputs": [],
   "source": [
    "# LLM tentative"
   ]
  },
  {
   "cell_type": "code",
   "execution_count": null,
   "metadata": {},
   "outputs": [],
   "source": [
    "!pip install tensorflow"
   ]
  },
  {
   "cell_type": "code",
   "execution_count": null,
   "metadata": {},
   "outputs": [],
   "source": [
    "!pip install transformers"
   ]
  },
  {
   "cell_type": "code",
   "execution_count": null,
   "metadata": {},
   "outputs": [],
   "source": [
    "!pip install torch torchvision torchaudio"
   ]
  },
  {
   "cell_type": "code",
   "execution_count": null,
   "metadata": {},
   "outputs": [],
   "source": [
    "# import section\n",
    "\n",
    "import yfinance as yf\n",
    "import numpy as np\n",
    "import torch\n",
    "import matplotlib.pyplot as plt\n",
    "from transformers import GPT2LMHeadModel, GPT2Tokenizer, TFGPT2LMHeadModel"
   ]
  },
  {
   "cell_type": "code",
   "execution_count": null,
   "metadata": {},
   "outputs": [],
   "source": [
    "import torch\n",
    "x = torch.rand(5, 3)\n",
    "print(x)"
   ]
  },
  {
   "cell_type": "code",
   "execution_count": null,
   "metadata": {},
   "outputs": [],
   "source": [
    "import torch\n",
    "torch.cuda.is_available()"
   ]
  },
  {
   "cell_type": "code",
   "execution_count": 67,
   "metadata": {},
   "outputs": [
    {
     "name": "stderr",
     "output_type": "stream",
     "text": [
      "[*********************100%%**********************]  1 of 1 completed\n"
     ]
    }
   ],
   "source": [
    "ticker = \"AAPL\"\n",
    "start_date = \"2023-01-01\"\n",
    "end_date = \"2023-06-08\"\n",
    "data = yf.download(ticker, start=start_date, end=end_date)\n",
    "\n",
    "prices = data[\"Close\"].tolist()"
   ]
  },
  {
   "cell_type": "code",
   "execution_count": 64,
   "metadata": {},
   "outputs": [
    {
     "data": {
      "text/html": [
       "<div>\n",
       "<style scoped>\n",
       "    .dataframe tbody tr th:only-of-type {\n",
       "        vertical-align: middle;\n",
       "    }\n",
       "\n",
       "    .dataframe tbody tr th {\n",
       "        vertical-align: top;\n",
       "    }\n",
       "\n",
       "    .dataframe thead th {\n",
       "        text-align: right;\n",
       "    }\n",
       "</style>\n",
       "<table border=\"1\" class=\"dataframe\">\n",
       "  <thead>\n",
       "    <tr style=\"text-align: right;\">\n",
       "      <th></th>\n",
       "      <th>Open</th>\n",
       "      <th>High</th>\n",
       "      <th>Low</th>\n",
       "      <th>Close</th>\n",
       "      <th>Adj Close</th>\n",
       "      <th>Volume</th>\n",
       "    </tr>\n",
       "    <tr>\n",
       "      <th>Date</th>\n",
       "      <th></th>\n",
       "      <th></th>\n",
       "      <th></th>\n",
       "      <th></th>\n",
       "      <th></th>\n",
       "      <th></th>\n",
       "    </tr>\n",
       "  </thead>\n",
       "  <tbody>\n",
       "    <tr>\n",
       "      <th>2023-01-02</th>\n",
       "      <td>18131.699219</td>\n",
       "      <td>18215.150391</td>\n",
       "      <td>18086.500000</td>\n",
       "      <td>18197.449219</td>\n",
       "      <td>18197.449219</td>\n",
       "      <td>256100</td>\n",
       "    </tr>\n",
       "    <tr>\n",
       "      <th>2023-01-03</th>\n",
       "      <td>18163.199219</td>\n",
       "      <td>18251.949219</td>\n",
       "      <td>18149.800781</td>\n",
       "      <td>18232.550781</td>\n",
       "      <td>18232.550781</td>\n",
       "      <td>208700</td>\n",
       "    </tr>\n",
       "    <tr>\n",
       "      <th>2023-01-04</th>\n",
       "      <td>18230.650391</td>\n",
       "      <td>18243.000000</td>\n",
       "      <td>18020.599609</td>\n",
       "      <td>18042.949219</td>\n",
       "      <td>18042.949219</td>\n",
       "      <td>235200</td>\n",
       "    </tr>\n",
       "    <tr>\n",
       "      <th>2023-01-05</th>\n",
       "      <td>18101.949219</td>\n",
       "      <td>18120.300781</td>\n",
       "      <td>17892.599609</td>\n",
       "      <td>17992.150391</td>\n",
       "      <td>17992.150391</td>\n",
       "      <td>269900</td>\n",
       "    </tr>\n",
       "    <tr>\n",
       "      <th>2023-01-06</th>\n",
       "      <td>18008.050781</td>\n",
       "      <td>18047.400391</td>\n",
       "      <td>17795.550781</td>\n",
       "      <td>17859.449219</td>\n",
       "      <td>17859.449219</td>\n",
       "      <td>238200</td>\n",
       "    </tr>\n",
       "    <tr>\n",
       "      <th>...</th>\n",
       "      <td>...</td>\n",
       "      <td>...</td>\n",
       "      <td>...</td>\n",
       "      <td>...</td>\n",
       "      <td>...</td>\n",
       "      <td>...</td>\n",
       "    </tr>\n",
       "    <tr>\n",
       "      <th>2023-06-01</th>\n",
       "      <td>18579.400391</td>\n",
       "      <td>18580.300781</td>\n",
       "      <td>18464.550781</td>\n",
       "      <td>18487.750000</td>\n",
       "      <td>18487.750000</td>\n",
       "      <td>265600</td>\n",
       "    </tr>\n",
       "    <tr>\n",
       "      <th>2023-06-02</th>\n",
       "      <td>18550.849609</td>\n",
       "      <td>18573.699219</td>\n",
       "      <td>18478.400391</td>\n",
       "      <td>18534.099609</td>\n",
       "      <td>18534.099609</td>\n",
       "      <td>270900</td>\n",
       "    </tr>\n",
       "    <tr>\n",
       "      <th>2023-06-05</th>\n",
       "      <td>18612.000000</td>\n",
       "      <td>18640.150391</td>\n",
       "      <td>18582.800781</td>\n",
       "      <td>18593.849609</td>\n",
       "      <td>18593.849609</td>\n",
       "      <td>256100</td>\n",
       "    </tr>\n",
       "    <tr>\n",
       "      <th>2023-06-06</th>\n",
       "      <td>18600.800781</td>\n",
       "      <td>18622.750000</td>\n",
       "      <td>18531.599609</td>\n",
       "      <td>18599.000000</td>\n",
       "      <td>18599.000000</td>\n",
       "      <td>220800</td>\n",
       "    </tr>\n",
       "    <tr>\n",
       "      <th>2023-06-07</th>\n",
       "      <td>18665.599609</td>\n",
       "      <td>18738.949219</td>\n",
       "      <td>18636.000000</td>\n",
       "      <td>18726.400391</td>\n",
       "      <td>18726.400391</td>\n",
       "      <td>260100</td>\n",
       "    </tr>\n",
       "  </tbody>\n",
       "</table>\n",
       "<p>106 rows × 6 columns</p>\n",
       "</div>"
      ],
      "text/plain": [
       "                    Open          High           Low         Close  \\\n",
       "Date                                                                 \n",
       "2023-01-02  18131.699219  18215.150391  18086.500000  18197.449219   \n",
       "2023-01-03  18163.199219  18251.949219  18149.800781  18232.550781   \n",
       "2023-01-04  18230.650391  18243.000000  18020.599609  18042.949219   \n",
       "2023-01-05  18101.949219  18120.300781  17892.599609  17992.150391   \n",
       "2023-01-06  18008.050781  18047.400391  17795.550781  17859.449219   \n",
       "...                  ...           ...           ...           ...   \n",
       "2023-06-01  18579.400391  18580.300781  18464.550781  18487.750000   \n",
       "2023-06-02  18550.849609  18573.699219  18478.400391  18534.099609   \n",
       "2023-06-05  18612.000000  18640.150391  18582.800781  18593.849609   \n",
       "2023-06-06  18600.800781  18622.750000  18531.599609  18599.000000   \n",
       "2023-06-07  18665.599609  18738.949219  18636.000000  18726.400391   \n",
       "\n",
       "               Adj Close  Volume  \n",
       "Date                              \n",
       "2023-01-02  18197.449219  256100  \n",
       "2023-01-03  18232.550781  208700  \n",
       "2023-01-04  18042.949219  235200  \n",
       "2023-01-05  17992.150391  269900  \n",
       "2023-01-06  17859.449219  238200  \n",
       "...                  ...     ...  \n",
       "2023-06-01  18487.750000  265600  \n",
       "2023-06-02  18534.099609  270900  \n",
       "2023-06-05  18593.849609  256100  \n",
       "2023-06-06  18599.000000  220800  \n",
       "2023-06-07  18726.400391  260100  \n",
       "\n",
       "[106 rows x 6 columns]"
      ]
     },
     "execution_count": 64,
     "metadata": {},
     "output_type": "execute_result"
    }
   ],
   "source": [
    "data"
   ]
  },
  {
   "cell_type": "markdown",
   "metadata": {},
   "source": [
    "Tokenizing Historical Prices and Fine-tuning the Model"
   ]
  },
  {
   "cell_type": "code",
   "execution_count": null,
   "metadata": {},
   "outputs": [],
   "source": [
    "tokenizer = GPT2Tokenizer.from_pretrained(\"gpt2\")"
   ]
  },
  {
   "cell_type": "code",
   "execution_count": null,
   "metadata": {},
   "outputs": [],
   "source": [
    "# model = GPT2LMHeadModel.from_pretrained(\"gpt2\")\n",
    "model = TFGPT2LMHeadModel.from_pretrained(\"gpt2\") # Using TensorFlow instead of PyTorch"
   ]
  },
  {
   "cell_type": "code",
   "execution_count": null,
   "metadata": {},
   "outputs": [],
   "source": [
    "# optimizer = torch.optim.Adam(model.parameters(), lr=5e-5)\n",
    "def tokenize():\n",
    "    encoded_prices = tokenizer.encode(\" \".join([str(price) for price in prices]), return_tensors=\"pt\")\n",
    "\n",
    "tokenize()\n",
    "\n",
    "\n"
   ]
  },
  {
   "cell_type": "code",
   "execution_count": null,
   "metadata": {},
   "outputs": [],
   "source": [
    "model.train()\n",
    "optimizer = torch.optim.Adam(model.parameters(), lr=5e-5)\n",
    "model.resize_token_embeddings(len(tokenizer))\n",
    "\n"
   ]
  },
  {
   "cell_type": "markdown",
   "metadata": {},
   "source": [
    "fine-tune the GPT-2 model"
   ]
  },
  {
   "cell_type": "code",
   "execution_count": null,
   "metadata": {},
   "outputs": [],
   "source": [
    "for _ in range(3):\n",
    "    model.zero_grad()\n",
    "    outputs = model(encoded_prices, labels=encoded_prices)\n",
    "    loss = outputs.loss\n",
    "    loss.backward()\n",
    "    optimizer.step()"
   ]
  },
  {
   "cell_type": "markdown",
   "metadata": {},
   "source": [
    "Using historical stock price data, this code refines a pre-trained GPT model to\n",
    "produce future prices."
   ]
  },
  {
   "cell_type": "code",
   "execution_count": null,
   "metadata": {},
   "outputs": [],
   "source": [
    "generated = model.generate(encoded_prices, max_length=len(encoded_prices) + 10, temperature=1.0, num_return_sequences=1)\n",
    "generated_prices = tokenizer.decode(generated[0], skip_special_tokens=True).split()"
   ]
  },
  {
   "cell_type": "code",
   "execution_count": null,
   "metadata": {},
   "outputs": [],
   "source": [
    "plt.figure(figsize=(12, 6))\n",
    "plt.plot(data.index, prices, label=\"Historical Prices\")\n",
    "plt.plot(data.index[-1] + pd.to_timedelta(np.arange(1, len(generated_prices) + 1), 'D'), [float(price) for price in generated_prices[len(prices):]], \"g^\", label=\"Predicted Prices\")\n",
    "plt.xlabel(\"Date\")\n",
    "plt.ylabel(\"Stock Price\")\n",
    "plt.title(f\"{ticker} - Historical and Predicted Stock Prices (GPT)\")\n",
    "plt.legend()\n",
    "plt.xticks(rotation=45)\n",
    "plt.tight_layout()\n",
    "plt.show()"
   ]
  }
 ],
 "metadata": {
  "kernelspec": {
   "display_name": "base",
   "language": "python",
   "name": "python3"
  },
  "language_info": {
   "codemirror_mode": {
    "name": "ipython",
    "version": 3
   },
   "file_extension": ".py",
   "mimetype": "text/x-python",
   "name": "python",
   "nbconvert_exporter": "python",
   "pygments_lexer": "ipython3",
   "version": "3.11.5"
  }
 },
 "nbformat": 4,
 "nbformat_minor": 2
}
